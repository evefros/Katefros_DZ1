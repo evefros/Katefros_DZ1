{
 "cells": [
  {
   "cell_type": "code",
   "execution_count": 3,
   "metadata": {
    "scrolled": true
   },
   "outputs": [
    {
     "name": "stdout",
     "output_type": "stream",
     "text": [
      "Фраза 1 длиннее фразы 2\n"
     ]
    }
   ],
   "source": [
    "phrase_1 = \"640Кб должно хватить для любых задач. Билл Гейтс (по легенде)\"\n",
    "phrase_2 = \"640Кб должно хватить для любых задач. Билл Гейтс (по легенде)\"\n",
    "if len(phrase_1)>len(phrase_2):\n",
    "    print(\"Фраза 1 длиннее фразы 2\")\n",
    "elif len(phrase_1)<len(phrase_2): \n",
    "    print('Фраза 2 длиннее фразы 1') \n",
    "else:\n",
    "    print(\"Фразы равной длины\")"
   ]
  },
  {
   "cell_type": "code",
   "execution_count": 5,
   "metadata": {
    "scrolled": true
   },
   "outputs": [
    {
     "name": "stdout",
     "output_type": "stream",
     "text": [
      "Обычный год\n"
     ]
    }
   ],
   "source": [
    "year = 1700\n",
    "if year % 400 == 0:\n",
    "    print('Високосный год')\n",
    "elif year % 100 == 0:\n",
    "    print('Обычный год')\n",
    "elif year % 4 == 0:\n",
    "    print('Високосный год')\n",
    "else :\n",
    "    print('Обычный год')"
   ]
  },
  {
   "cell_type": "code",
   "execution_count": 7,
   "metadata": {},
   "outputs": [
    {
     "name": "stdout",
     "output_type": "stream",
     "text": [
      "Введите день 31\n",
      "Введите месяц Март\n",
      "Ваш знак зодиака: Овен\n"
     ]
    }
   ],
   "source": [
    "date = int(input('Введите день '))\n",
    "mounth = input('Введите месяц ')\n",
    "if (date >= 21 and date <= 31 and mounth == 'Март') or (date >= 1 and date <= 19 and mounth == 'Апрель'):\n",
    "           print('Ваш знак зодиака: Овен')\n",
    "elif (date >= 20 and date <= 30 and mounth == 'Апрель') or (date >= 1 and date <= 20 and mounth == 'Май'):\n",
    "           print('Ваш знак зодиака: Телец')\n",
    "elif (date >= 21 and date <= 31 and mounth == 'Май') or (date >= 1 and date <= 20 and mounth == 'Июнь'):\n",
    "           print('Ваш знак зодиака: Близнецы')\n",
    "elif (date >= 21 and date <= 30 and mounth =='Июнь') or (date >= 1 and date <= 22 and mounth == 'Июль'):\n",
    "           print('Ваш знак зодиака: Рак')\n",
    "elif (date >= 23 and date <= 31 and mounth =='Июль') or (date >= 1 and date <= 22 and mounth == 'Август'):\n",
    "           print('Ваш знак зодиака: Лев')\n",
    "elif (date >= 23 and date <= 31 and mounth =='Август') or (date >= 1 and date <= 22 and mounth == 'Сентябрь'):\n",
    "           print('Ваш знак зодиака: Дева')\n",
    "elif (date >= 23 and date <= 30 and mounth =='Сентябрь') or (date >= 1 and date <= 22 and mounth == 'Октябрь'):\n",
    "           print('Ваш знак зодиака: Весы')\n",
    "elif (date >= 23 and date <= 31 and mounth =='Октябрь') or (date >= 1 and date <= 21 and mounth == 'Ноябрь'):\n",
    "           print('Ваш знак зодиака: Скорпион')\n",
    "elif (date >= 22 and date <= 30 and mounth =='Ноябрь') or (date >= 1 and date <= 21 and mounth == 'Декабрь'):\n",
    "           print('Ваш знак зодиака: Стрелец')\n",
    "elif (date >= 22 and date <= 31 and mounth =='Декабрь') or (date >= 1 and date <= 19 and mounth == 'Январь'):\n",
    "           print('Ваш знак зодиака: Козерог')\n",
    "elif (date >= 20 and date <= 31 and mounth =='Январь') or (date >= 1 and date <= 18 and mounth == 'Февраль'):\n",
    "           print('Ваш знак зодиака: Водолей')\n",
    "elif (date >= 19 and date <= 29 and mounth =='Февраль') or (date >= 1 and date <= 20 and mounth == 'Март'):\n",
    "           print('Ваш знак зодиака: Рыбы')"
   ]
  },
  {
   "cell_type": "code",
   "execution_count": 9,
   "metadata": {},
   "outputs": [
    {
     "name": "stdout",
     "output_type": "stream",
     "text": [
      "Введите ширину товара: 45\n",
      "Введите длину товара: 205\n",
      "Введите высоту товара: 45\n",
      "Упаковка для лыж\n"
     ]
    }
   ],
   "source": [
    "width = int(input('Введите ширину товара: '))\n",
    "length = int(input('Введите длину товара: '))\n",
    "height = int(input('Введите высоту товара: '))\n",
    "if (width > 200 or length > 200 or height > 200):\n",
    "    print(\"Упаковка для лыж\")\n",
    "elif (width < 15 and length < 15 and height < 15):\n",
    "    print('Стандартная коробка №1')\n",
    "elif ((width > 15 and width < 50) or (length > 15 and length < 50) or (height > 15 and height < 50)):\n",
    "    print(\"Стандартная коробка №2\")\n",
    "else:\n",
    "    print(\"Стандартная коробка №3\")"
   ]
  },
  {
   "cell_type": "code",
   "execution_count": 11,
   "metadata": {},
   "outputs": [
    {
     "name": "stdout",
     "output_type": "stream",
     "text": [
      "Счастливый билет\n"
     ]
    }
   ],
   "source": [
    "tiket = '122212'\n",
    "first = int(tiket[0]) + int(tiket[1]) + int(tiket[2])\n",
    "second = int(tiket[3]) + int(tiket[4]) + int(tiket[5])\n",
    "if first == second:\n",
    "    print('Счастливый билет')\n",
    "else:\n",
    "    print('В следующий раз повезет!')"
   ]
  },
  {
   "cell_type": "code",
   "execution_count": 13,
   "metadata": {},
   "outputs": [
    {
     "name": "stdout",
     "output_type": "stream",
     "text": [
      "Введите тип фигуры: Треугольник\n",
      "Введите длину стороны A:3\n",
      "Введите длину стороны B:4\n",
      "Введите длину стороны B:5\n",
      "Площадь треугольника:  6.0\n"
     ]
    }
   ],
   "source": [
    "import math\n",
    "\n",
    "figure = input('Введите тип фигуры: ')\n",
    "if (figure[2] == \"е\"):\n",
    "    A = int(input('Введите длину стороны A:'))\n",
    "    B = int(input('Введите длину стороны B:'))\n",
    "    C = int(input('Введите длину стороны B:'))\n",
    "    p = (A + B + C) / 2\n",
    "    area = math.sqrt(p * (p-A) * (p-B) * (p-C))\n",
    "    print('Площадь треугольника: ',area)\n",
    "elif (figure[2] == \"у\"):\n",
    "    radius = int(input('Введите радиус круга'))\n",
    "    area = math.pi * radius * radius\n",
    "    print('Площадь круга: ',area)\n",
    "elif (figure[2] == \"я\"):\n",
    "    A = int(input('Введите длину стороны A:'))\n",
    "    B = int(input('Введите длину стороны B:'))\n",
    "    area = A * B\n",
    "    print('Площадь прямоугольника: ',area)"
   ]
  }
 ],
 "metadata": {
  "kernelspec": {
   "display_name": "Python 3",
   "language": "python",
   "name": "python3"
  },
  "language_info": {
   "codemirror_mode": {
    "name": "ipython",
    "version": 3
   },
   "file_extension": ".py",
   "mimetype": "text/x-python",
   "name": "python",
   "nbconvert_exporter": "python",
   "pygments_lexer": "ipython3",
   "version": "3.8.5"
  }
 },
 "nbformat": 4,
 "nbformat_minor": 4
}
